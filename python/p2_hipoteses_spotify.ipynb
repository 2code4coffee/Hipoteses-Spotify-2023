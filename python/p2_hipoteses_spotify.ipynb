{
  "nbformat": 4,
  "nbformat_minor": 0,
  "metadata": {
    "colab": {
      "provenance": []
    },
    "kernelspec": {
      "name": "python3",
      "display_name": "Python 3"
    },
    "language_info": {
      "name": "python"
    }
  },
  "cells": [
    {
      "cell_type": "markdown",
      "source": [
        "🟦 **Importando tabela**"
      ],
      "metadata": {
        "id": "eQg9La-lvQnX"
      }
    },
    {
      "cell_type": "code",
      "execution_count": null,
      "metadata": {
        "id": "hNNg_mw-ZuzX"
      },
      "outputs": [],
      "source": [
        "import pandas as pd\n",
        "\n",
        "df = pd.read_csv(\"/content/spotify2023.csv\")"
      ]
    },
    {
      "cell_type": "code",
      "source": [
        "df.head()"
      ],
      "metadata": {
        "colab": {
          "base_uri": "https://localhost:8080/",
          "height": 359
        },
        "id": "Yj_LV7i7bEBs",
        "outputId": "52ac54a0-1748-4fc9-b305-7c08114db18e"
      },
      "execution_count": null,
      "outputs": [
        {
          "output_type": "execute_result",
          "data": {
            "text/plain": [
              "   track_id_atualizado                           track_name_clean  \\\n",
              "0              8576945           rockin around the christmas tree   \n",
              "1              6372609                           jingle bell rock   \n",
              "2              4002890    a holly jolly christmas  single version   \n",
              "3              6593931  driving home for christmas  2019 remaster   \n",
              "4              8167749             deck the hall  remastered 1999   \n",
              "\n",
              "  artist_s__name_clean  count_songs  artist_count data_de_lancamento  \\\n",
              "0           brenda lee            1             1         1958-01-01   \n",
              "1          bobby helms            1             1         1957-01-01   \n",
              "2            burl ives            1             1         1952-01-01   \n",
              "3            chris rea            1             1         1986-01-01   \n",
              "4        nat king cole            2             1         1959-01-01   \n",
              "\n",
              "     streams  in_spotify_charts  in_spotify_playlists  in_apple_charts  ...  \\\n",
              "0  769213520                  0                 14994              168  ...   \n",
              "1  741301563                  0                 10326               99  ...   \n",
              "2  395591396                  0                  7930              120  ...   \n",
              "3  429504768                  0                   888                0  ...   \n",
              "4  127027715                  0                  3299               39  ...   \n",
              "\n",
              "   terciles_energy  categoria_energy  terciles_acousticness  \\\n",
              "0                1             baixo                      3   \n",
              "1                1             baixo                      3   \n",
              "2                1             baixo                      3   \n",
              "3                1             baixo                      3   \n",
              "4                1             baixo                      3   \n",
              "\n",
              "   categoria_acousticness  terciles_instrumentalness  \\\n",
              "0                    alto                          2   \n",
              "1                    alto                          1   \n",
              "2                    alto                          2   \n",
              "3                    alto                          2   \n",
              "4                    alto                          3   \n",
              "\n",
              "   categoria_instrumentalness  terciles_liveness  categoria_liveness  \\\n",
              "0                       medio                  3                alto   \n",
              "1                       baixo                  1               baixo   \n",
              "2                       medio                  2               medio   \n",
              "3                       medio                  3                alto   \n",
              "4                        alto                  1               baixo   \n",
              "\n",
              "   terciles_speechiness  categoria_speechiness  \n",
              "0                     2                  medio  \n",
              "1                     1                  baixo  \n",
              "2                     1                  baixo  \n",
              "3                     1                  baixo  \n",
              "4                     1                  baixo  \n",
              "\n",
              "[5 rows x 40 columns]"
            ],
            "text/html": [
              "\n",
              "  <div id=\"df-9f601170-d5a6-492e-a2ea-559db46fb96d\" class=\"colab-df-container\">\n",
              "    <div>\n",
              "<style scoped>\n",
              "    .dataframe tbody tr th:only-of-type {\n",
              "        vertical-align: middle;\n",
              "    }\n",
              "\n",
              "    .dataframe tbody tr th {\n",
              "        vertical-align: top;\n",
              "    }\n",
              "\n",
              "    .dataframe thead th {\n",
              "        text-align: right;\n",
              "    }\n",
              "</style>\n",
              "<table border=\"1\" class=\"dataframe\">\n",
              "  <thead>\n",
              "    <tr style=\"text-align: right;\">\n",
              "      <th></th>\n",
              "      <th>track_id_atualizado</th>\n",
              "      <th>track_name_clean</th>\n",
              "      <th>artist_s__name_clean</th>\n",
              "      <th>count_songs</th>\n",
              "      <th>artist_count</th>\n",
              "      <th>data_de_lancamento</th>\n",
              "      <th>streams</th>\n",
              "      <th>in_spotify_charts</th>\n",
              "      <th>in_spotify_playlists</th>\n",
              "      <th>in_apple_charts</th>\n",
              "      <th>...</th>\n",
              "      <th>terciles_energy</th>\n",
              "      <th>categoria_energy</th>\n",
              "      <th>terciles_acousticness</th>\n",
              "      <th>categoria_acousticness</th>\n",
              "      <th>terciles_instrumentalness</th>\n",
              "      <th>categoria_instrumentalness</th>\n",
              "      <th>terciles_liveness</th>\n",
              "      <th>categoria_liveness</th>\n",
              "      <th>terciles_speechiness</th>\n",
              "      <th>categoria_speechiness</th>\n",
              "    </tr>\n",
              "  </thead>\n",
              "  <tbody>\n",
              "    <tr>\n",
              "      <th>0</th>\n",
              "      <td>8576945</td>\n",
              "      <td>rockin around the christmas tree</td>\n",
              "      <td>brenda lee</td>\n",
              "      <td>1</td>\n",
              "      <td>1</td>\n",
              "      <td>1958-01-01</td>\n",
              "      <td>769213520</td>\n",
              "      <td>0</td>\n",
              "      <td>14994</td>\n",
              "      <td>168</td>\n",
              "      <td>...</td>\n",
              "      <td>1</td>\n",
              "      <td>baixo</td>\n",
              "      <td>3</td>\n",
              "      <td>alto</td>\n",
              "      <td>2</td>\n",
              "      <td>medio</td>\n",
              "      <td>3</td>\n",
              "      <td>alto</td>\n",
              "      <td>2</td>\n",
              "      <td>medio</td>\n",
              "    </tr>\n",
              "    <tr>\n",
              "      <th>1</th>\n",
              "      <td>6372609</td>\n",
              "      <td>jingle bell rock</td>\n",
              "      <td>bobby helms</td>\n",
              "      <td>1</td>\n",
              "      <td>1</td>\n",
              "      <td>1957-01-01</td>\n",
              "      <td>741301563</td>\n",
              "      <td>0</td>\n",
              "      <td>10326</td>\n",
              "      <td>99</td>\n",
              "      <td>...</td>\n",
              "      <td>1</td>\n",
              "      <td>baixo</td>\n",
              "      <td>3</td>\n",
              "      <td>alto</td>\n",
              "      <td>1</td>\n",
              "      <td>baixo</td>\n",
              "      <td>1</td>\n",
              "      <td>baixo</td>\n",
              "      <td>1</td>\n",
              "      <td>baixo</td>\n",
              "    </tr>\n",
              "    <tr>\n",
              "      <th>2</th>\n",
              "      <td>4002890</td>\n",
              "      <td>a holly jolly christmas  single version</td>\n",
              "      <td>burl ives</td>\n",
              "      <td>1</td>\n",
              "      <td>1</td>\n",
              "      <td>1952-01-01</td>\n",
              "      <td>395591396</td>\n",
              "      <td>0</td>\n",
              "      <td>7930</td>\n",
              "      <td>120</td>\n",
              "      <td>...</td>\n",
              "      <td>1</td>\n",
              "      <td>baixo</td>\n",
              "      <td>3</td>\n",
              "      <td>alto</td>\n",
              "      <td>2</td>\n",
              "      <td>medio</td>\n",
              "      <td>2</td>\n",
              "      <td>medio</td>\n",
              "      <td>1</td>\n",
              "      <td>baixo</td>\n",
              "    </tr>\n",
              "    <tr>\n",
              "      <th>3</th>\n",
              "      <td>6593931</td>\n",
              "      <td>driving home for christmas  2019 remaster</td>\n",
              "      <td>chris rea</td>\n",
              "      <td>1</td>\n",
              "      <td>1</td>\n",
              "      <td>1986-01-01</td>\n",
              "      <td>429504768</td>\n",
              "      <td>0</td>\n",
              "      <td>888</td>\n",
              "      <td>0</td>\n",
              "      <td>...</td>\n",
              "      <td>1</td>\n",
              "      <td>baixo</td>\n",
              "      <td>3</td>\n",
              "      <td>alto</td>\n",
              "      <td>2</td>\n",
              "      <td>medio</td>\n",
              "      <td>3</td>\n",
              "      <td>alto</td>\n",
              "      <td>1</td>\n",
              "      <td>baixo</td>\n",
              "    </tr>\n",
              "    <tr>\n",
              "      <th>4</th>\n",
              "      <td>8167749</td>\n",
              "      <td>deck the hall  remastered 1999</td>\n",
              "      <td>nat king cole</td>\n",
              "      <td>2</td>\n",
              "      <td>1</td>\n",
              "      <td>1959-01-01</td>\n",
              "      <td>127027715</td>\n",
              "      <td>0</td>\n",
              "      <td>3299</td>\n",
              "      <td>39</td>\n",
              "      <td>...</td>\n",
              "      <td>1</td>\n",
              "      <td>baixo</td>\n",
              "      <td>3</td>\n",
              "      <td>alto</td>\n",
              "      <td>3</td>\n",
              "      <td>alto</td>\n",
              "      <td>1</td>\n",
              "      <td>baixo</td>\n",
              "      <td>1</td>\n",
              "      <td>baixo</td>\n",
              "    </tr>\n",
              "  </tbody>\n",
              "</table>\n",
              "<p>5 rows × 40 columns</p>\n",
              "</div>\n",
              "    <div class=\"colab-df-buttons\">\n",
              "\n",
              "  <div class=\"colab-df-container\">\n",
              "    <button class=\"colab-df-convert\" onclick=\"convertToInteractive('df-9f601170-d5a6-492e-a2ea-559db46fb96d')\"\n",
              "            title=\"Convert this dataframe to an interactive table.\"\n",
              "            style=\"display:none;\">\n",
              "\n",
              "  <svg xmlns=\"http://www.w3.org/2000/svg\" height=\"24px\" viewBox=\"0 -960 960 960\">\n",
              "    <path d=\"M120-120v-720h720v720H120Zm60-500h600v-160H180v160Zm220 220h160v-160H400v160Zm0 220h160v-160H400v160ZM180-400h160v-160H180v160Zm440 0h160v-160H620v160ZM180-180h160v-160H180v160Zm440 0h160v-160H620v160Z\"/>\n",
              "  </svg>\n",
              "    </button>\n",
              "\n",
              "  <style>\n",
              "    .colab-df-container {\n",
              "      display:flex;\n",
              "      gap: 12px;\n",
              "    }\n",
              "\n",
              "    .colab-df-convert {\n",
              "      background-color: #E8F0FE;\n",
              "      border: none;\n",
              "      border-radius: 50%;\n",
              "      cursor: pointer;\n",
              "      display: none;\n",
              "      fill: #1967D2;\n",
              "      height: 32px;\n",
              "      padding: 0 0 0 0;\n",
              "      width: 32px;\n",
              "    }\n",
              "\n",
              "    .colab-df-convert:hover {\n",
              "      background-color: #E2EBFA;\n",
              "      box-shadow: 0px 1px 2px rgba(60, 64, 67, 0.3), 0px 1px 3px 1px rgba(60, 64, 67, 0.15);\n",
              "      fill: #174EA6;\n",
              "    }\n",
              "\n",
              "    .colab-df-buttons div {\n",
              "      margin-bottom: 4px;\n",
              "    }\n",
              "\n",
              "    [theme=dark] .colab-df-convert {\n",
              "      background-color: #3B4455;\n",
              "      fill: #D2E3FC;\n",
              "    }\n",
              "\n",
              "    [theme=dark] .colab-df-convert:hover {\n",
              "      background-color: #434B5C;\n",
              "      box-shadow: 0px 1px 3px 1px rgba(0, 0, 0, 0.15);\n",
              "      filter: drop-shadow(0px 1px 2px rgba(0, 0, 0, 0.3));\n",
              "      fill: #FFFFFF;\n",
              "    }\n",
              "  </style>\n",
              "\n",
              "    <script>\n",
              "      const buttonEl =\n",
              "        document.querySelector('#df-9f601170-d5a6-492e-a2ea-559db46fb96d button.colab-df-convert');\n",
              "      buttonEl.style.display =\n",
              "        google.colab.kernel.accessAllowed ? 'block' : 'none';\n",
              "\n",
              "      async function convertToInteractive(key) {\n",
              "        const element = document.querySelector('#df-9f601170-d5a6-492e-a2ea-559db46fb96d');\n",
              "        const dataTable =\n",
              "          await google.colab.kernel.invokeFunction('convertToInteractive',\n",
              "                                                    [key], {});\n",
              "        if (!dataTable) return;\n",
              "\n",
              "        const docLinkHtml = 'Like what you see? Visit the ' +\n",
              "          '<a target=\"_blank\" href=https://colab.research.google.com/notebooks/data_table.ipynb>data table notebook</a>'\n",
              "          + ' to learn more about interactive tables.';\n",
              "        element.innerHTML = '';\n",
              "        dataTable['output_type'] = 'display_data';\n",
              "        await google.colab.output.renderOutput(dataTable, element);\n",
              "        const docLink = document.createElement('div');\n",
              "        docLink.innerHTML = docLinkHtml;\n",
              "        element.appendChild(docLink);\n",
              "      }\n",
              "    </script>\n",
              "  </div>\n",
              "\n",
              "\n",
              "<div id=\"df-c1ea377e-c6b5-4cd5-bef7-a147018dbb11\">\n",
              "  <button class=\"colab-df-quickchart\" onclick=\"quickchart('df-c1ea377e-c6b5-4cd5-bef7-a147018dbb11')\"\n",
              "            title=\"Suggest charts\"\n",
              "            style=\"display:none;\">\n",
              "\n",
              "<svg xmlns=\"http://www.w3.org/2000/svg\" height=\"24px\"viewBox=\"0 0 24 24\"\n",
              "     width=\"24px\">\n",
              "    <g>\n",
              "        <path d=\"M19 3H5c-1.1 0-2 .9-2 2v14c0 1.1.9 2 2 2h14c1.1 0 2-.9 2-2V5c0-1.1-.9-2-2-2zM9 17H7v-7h2v7zm4 0h-2V7h2v10zm4 0h-2v-4h2v4z\"/>\n",
              "    </g>\n",
              "</svg>\n",
              "  </button>\n",
              "\n",
              "<style>\n",
              "  .colab-df-quickchart {\n",
              "      --bg-color: #E8F0FE;\n",
              "      --fill-color: #1967D2;\n",
              "      --hover-bg-color: #E2EBFA;\n",
              "      --hover-fill-color: #174EA6;\n",
              "      --disabled-fill-color: #AAA;\n",
              "      --disabled-bg-color: #DDD;\n",
              "  }\n",
              "\n",
              "  [theme=dark] .colab-df-quickchart {\n",
              "      --bg-color: #3B4455;\n",
              "      --fill-color: #D2E3FC;\n",
              "      --hover-bg-color: #434B5C;\n",
              "      --hover-fill-color: #FFFFFF;\n",
              "      --disabled-bg-color: #3B4455;\n",
              "      --disabled-fill-color: #666;\n",
              "  }\n",
              "\n",
              "  .colab-df-quickchart {\n",
              "    background-color: var(--bg-color);\n",
              "    border: none;\n",
              "    border-radius: 50%;\n",
              "    cursor: pointer;\n",
              "    display: none;\n",
              "    fill: var(--fill-color);\n",
              "    height: 32px;\n",
              "    padding: 0;\n",
              "    width: 32px;\n",
              "  }\n",
              "\n",
              "  .colab-df-quickchart:hover {\n",
              "    background-color: var(--hover-bg-color);\n",
              "    box-shadow: 0 1px 2px rgba(60, 64, 67, 0.3), 0 1px 3px 1px rgba(60, 64, 67, 0.15);\n",
              "    fill: var(--button-hover-fill-color);\n",
              "  }\n",
              "\n",
              "  .colab-df-quickchart-complete:disabled,\n",
              "  .colab-df-quickchart-complete:disabled:hover {\n",
              "    background-color: var(--disabled-bg-color);\n",
              "    fill: var(--disabled-fill-color);\n",
              "    box-shadow: none;\n",
              "  }\n",
              "\n",
              "  .colab-df-spinner {\n",
              "    border: 2px solid var(--fill-color);\n",
              "    border-color: transparent;\n",
              "    border-bottom-color: var(--fill-color);\n",
              "    animation:\n",
              "      spin 1s steps(1) infinite;\n",
              "  }\n",
              "\n",
              "  @keyframes spin {\n",
              "    0% {\n",
              "      border-color: transparent;\n",
              "      border-bottom-color: var(--fill-color);\n",
              "      border-left-color: var(--fill-color);\n",
              "    }\n",
              "    20% {\n",
              "      border-color: transparent;\n",
              "      border-left-color: var(--fill-color);\n",
              "      border-top-color: var(--fill-color);\n",
              "    }\n",
              "    30% {\n",
              "      border-color: transparent;\n",
              "      border-left-color: var(--fill-color);\n",
              "      border-top-color: var(--fill-color);\n",
              "      border-right-color: var(--fill-color);\n",
              "    }\n",
              "    40% {\n",
              "      border-color: transparent;\n",
              "      border-right-color: var(--fill-color);\n",
              "      border-top-color: var(--fill-color);\n",
              "    }\n",
              "    60% {\n",
              "      border-color: transparent;\n",
              "      border-right-color: var(--fill-color);\n",
              "    }\n",
              "    80% {\n",
              "      border-color: transparent;\n",
              "      border-right-color: var(--fill-color);\n",
              "      border-bottom-color: var(--fill-color);\n",
              "    }\n",
              "    90% {\n",
              "      border-color: transparent;\n",
              "      border-bottom-color: var(--fill-color);\n",
              "    }\n",
              "  }\n",
              "</style>\n",
              "\n",
              "  <script>\n",
              "    async function quickchart(key) {\n",
              "      const quickchartButtonEl =\n",
              "        document.querySelector('#' + key + ' button');\n",
              "      quickchartButtonEl.disabled = true;  // To prevent multiple clicks.\n",
              "      quickchartButtonEl.classList.add('colab-df-spinner');\n",
              "      try {\n",
              "        const charts = await google.colab.kernel.invokeFunction(\n",
              "            'suggestCharts', [key], {});\n",
              "      } catch (error) {\n",
              "        console.error('Error during call to suggestCharts:', error);\n",
              "      }\n",
              "      quickchartButtonEl.classList.remove('colab-df-spinner');\n",
              "      quickchartButtonEl.classList.add('colab-df-quickchart-complete');\n",
              "    }\n",
              "    (() => {\n",
              "      let quickchartButtonEl =\n",
              "        document.querySelector('#df-c1ea377e-c6b5-4cd5-bef7-a147018dbb11 button');\n",
              "      quickchartButtonEl.style.display =\n",
              "        google.colab.kernel.accessAllowed ? 'block' : 'none';\n",
              "    })();\n",
              "  </script>\n",
              "</div>\n",
              "\n",
              "    </div>\n",
              "  </div>\n"
            ],
            "application/vnd.google.colaboratory.intrinsic+json": {
              "type": "dataframe",
              "variable_name": "df"
            }
          },
          "metadata": {},
          "execution_count": 6
        }
      ]
    },
    {
      "cell_type": "markdown",
      "source": [
        "___________________________________________________________________________________"
      ],
      "metadata": {
        "id": "xVcaDcdg3g3C"
      }
    },
    {
      "cell_type": "markdown",
      "source": [
        "🟧 **Teste de significância: teste de Mann-Whitney U**"
      ],
      "metadata": {
        "id": "8Y-TrDnNvhB0"
      }
    },
    {
      "cell_type": "markdown",
      "source": [
        "BPM x Streams\n",
        "\n",
        "\n"
      ],
      "metadata": {
        "id": "z3o-JAJQxfRG"
      }
    },
    {
      "cell_type": "code",
      "source": [
        "import pandas as pd\n",
        "from scipy.stats import mannwhitneyu\n",
        "\n",
        "# Load the dataset\n",
        "dados = pd.read_csv(\"/content/spotify2023.csv\")\n",
        "\n",
        "# Separate the category_bpm variable\n",
        "terciles_bpm = dados[\"terciles_bpm\"]\n",
        "\n",
        "# Separate the streams variable\n",
        "streams = dados[\"streams\"]\n",
        "\n",
        "# Filter data for categories \"alto\" and \"baixo\"\n",
        "bpm_filtrados = dados.loc[dados[\"terciles_bpm\"].isin([1, 3])]\n",
        "\n",
        "# Extract the corresponding values from terciles_bpm\n",
        "bpm_filtrados_values = bpm_filtrados[\"terciles_bpm\"]\n",
        "\n",
        "# Perform the Mann-Whitney U test with streams and bpm_filtrados_values\n",
        "estatisticas, p_valor = mannwhitneyu(streams, bpm_filtrados_values)\n",
        "\n",
        "# Interpret the results\n",
        "if p_valor < 0.05:\n",
        "    print(\"Existe uma diferença estatisticamente significante entre streams e as categorias 'alto' e 'baixo' de bpm.\")\n",
        "    print(f\"Estatística do teste: {estatisticas}\")\n",
        "    print(f\"Valor p: {p_valor}\")\n",
        "else:\n",
        "    print(\"Não existe uma diferença estatisticamente significante entre streams e as categorias 'alto' e 'baixo' de bpm.\")\n",
        "    print(f\"Estatística do teste: {estatisticas}\")\n",
        "    print(f\"Valor p: {p_valor}\")"
      ],
      "metadata": {
        "colab": {
          "base_uri": "https://localhost:8080/"
        },
        "id": "K5ghktZW9iX5",
        "outputId": "3c8f49fc-1e3b-4f0f-a178-0a8bb641491e"
      },
      "execution_count": null,
      "outputs": [
        {
          "output_type": "stream",
          "name": "stdout",
          "text": [
            "Existe uma diferença estatisticamente significante entre streams e as categorias 'alto' e 'baixo' de bpm.\n",
            "Estatística do teste: 599136.0\n",
            "Valor p: 3.0653037461368137e-253\n"
          ]
        }
      ]
    },
    {
      "cell_type": "markdown",
      "source": [
        "___________________________________________________________________________________"
      ],
      "metadata": {
        "id": "UiEnX46Y3xC6"
      }
    },
    {
      "cell_type": "markdown",
      "source": [
        "Playlists x Streams"
      ],
      "metadata": {
        "id": "82px2hLyyAUq"
      }
    },
    {
      "cell_type": "code",
      "source": [
        "import pandas as pd\n",
        "from scipy.stats import wilcoxon\n",
        "\n",
        "# Carregar dados\n",
        "dados = pd.read_csv(\"/content/spotify2023.csv\")\n",
        "\n",
        "# Separar variáveis\n",
        "streams = dados['streams'].to_numpy()\n",
        "participacao_playlists = dados['total_participation_in_playlist'].to_numpy()\n",
        "\n",
        "# Realizar teste de Wilcoxon\n",
        "estatística_wilcoxon, p_valor = wilcoxon(streams, participacao_playlists)\n",
        "\n",
        "# Interpretar resultados\n",
        "print(f\"Estatística de Wilcoxon: {estatística_wilcoxon}\")\n",
        "print(f\"Valor p: {p_valor}\")\n",
        "\n",
        "# Conclusões\n",
        "if p_valor < 0.05:\n",
        "    print(\"Existe uma diferença estatisticamente significante entre as variáveis 'streams' e 'participacao_em_playlists'.\")\n",
        "else:\n",
        "    print(\"Não há evidências suficientes para concluir que há uma diferença estatisticamente significante entre as variáveis 'streams' e 'participacao_em_playlists'.\")"
      ],
      "metadata": {
        "colab": {
          "base_uri": "https://localhost:8080/"
        },
        "id": "c38Jmgqt0hjU",
        "outputId": "0c31b2cd-1c55-41d8-ffc5-b8861b912385"
      },
      "execution_count": null,
      "outputs": [
        {
          "output_type": "stream",
          "name": "stdout",
          "text": [
            "Estatística de Wilcoxon: 0.0\n",
            "Valor p: 1.0050943851882625e-156\n",
            "Existe uma diferença estatisticamente significante entre as variáveis 'streams' e 'participacao_em_playlists'.\n"
          ]
        }
      ]
    },
    {
      "cell_type": "markdown",
      "source": [
        "___________________________________________________________________________________"
      ],
      "metadata": {
        "id": "wLdDlcLwBzZy"
      }
    },
    {
      "cell_type": "markdown",
      "source": [
        "🟧 Teste de significância: teste t de Student"
      ],
      "metadata": {
        "id": "-r42iAGnEDAJ"
      }
    },
    {
      "cell_type": "code",
      "source": [
        "import pandas as pd\n",
        "from scipy.stats import ttest_ind\n",
        "\n",
        "# Carregar dados\n",
        "dados = pd.read_csv(\"/content/spotify2023.csv\")\n",
        "\n",
        "# Definir categorias\n",
        "categoria_alto = 'alto'\n",
        "categoria_baixo = 'baixo'\n",
        "\n",
        "# Extrair dados\n",
        "streams = dados['streams'].to_numpy()\n",
        "streams_alto = dados[dados['categoria_bpm'] == dcategoria_alto]['streams'].to_numpy()\n",
        "streams_baixo = dados[dados['categoria_bpm'] == categoria_baixo]['streams'].to_numpy()\n",
        "\n",
        "# Teste t para categoria 'alto'\n",
        "estatística_t_alto, p_valor_alto = ttest_ind(streams, streams_alto)\n",
        "print(f\"Teste t (categoria '{categoria_alto}'): t = {estatística_t_alto}, p = {p_valor_alto}\")\n",
        "\n",
        "# Teste t para categoria 'baixo'\n",
        "estatística_t_baixo, p_valor_baixo = ttest_ind(streams, streams_baixo)\n",
        "print(f\"Teste t (categoria '{categoria_baixo}'): t = {estatística_t_baixo}, p = {p_valor_baixo}\")"
      ],
      "metadata": {
        "colab": {
          "base_uri": "https://localhost:8080/"
        },
        "id": "CLL8ns2QENDr",
        "outputId": "9d3e4f0f-0454-481b-f8ca-2f115a2f8e69"
      },
      "execution_count": null,
      "outputs": [
        {
          "output_type": "stream",
          "name": "stdout",
          "text": [
            "Teste t (categoria 'alto'): t = 0.656060288864537, p = 0.5119049256340535\n",
            "Teste t (categoria 'baixo'): t = -0.37795832429617787, p = 0.7055251142528766\n"
          ]
        }
      ]
    },
    {
      "cell_type": "markdown",
      "source": [
        "Com base neste teste t específico, não podemos afirmar com confiança que a categoria 'alto' de 'bpm' possui uma média de streams estatisticamente diferente da média geral.\n",
        "\n",
        "Com base neste teste t específico, podemos afirmar com confiança que a categoria 'baixo' de 'bpm' possui uma média de streams estatisticamente diferente da média geral.\n",
        "A média de streams na categoria 'baixo' é menor do que a média geral."
      ],
      "metadata": {
        "id": "45dkziQwFSvm"
      }
    },
    {
      "cell_type": "markdown",
      "source": [
        "______________________________________________________________________________"
      ],
      "metadata": {
        "id": "F8j9sZ5LFVex"
      }
    },
    {
      "cell_type": "markdown",
      "source": [
        "🟧 **Regressão Linear**"
      ],
      "metadata": {
        "id": "J3Ip5sNpwpV9"
      }
    },
    {
      "cell_type": "markdown",
      "source": [
        "BPM x Streams"
      ],
      "metadata": {
        "id": "Vj68j9N-34sq"
      }
    },
    {
      "cell_type": "code",
      "source": [
        "import pandas as pd\n",
        "import statsmodels.formula.api as smf\n",
        "import numpy as np\n",
        "import matplotlib.pyplot as plt\n",
        "\n",
        "# Carregar o conjunto de dados\n",
        "dados = pd.read_csv(\"/content/spotify2023.csv\")\n",
        "\n",
        "# Define the model with the appropriate model type and formula\n",
        "modelo = smf.ols(formula=\"bpm ~ streams\", data=dados).fit()\n",
        "\n",
        "# Calculate the predicted values based on the model\n",
        "predicted_values = modelo.predict(dados[\"streams\"])\n",
        "\n",
        "# Prepare data for the plot\n",
        "x_values = dados[\"bpm\"]\n",
        "y_values = dados[\"streams\"]\n",
        "\n",
        "# Plot the data points\n",
        "plt.plot(x_values, y_values, marker='o', linestyle='')\n",
        "\n",
        "# Plot the trendline\n",
        "plt.plot(x_values, predicted_values, color='red')\n",
        "\n",
        "# Customize the plot\n",
        "plt.xlabel(\"BPM\")\n",
        "plt.ylabel(\"Streams\")\n",
        "plt.title(\"Relação entre Streams e BPM\")\n",
        "plt.legend([\"Pontos de Dados\", \"Reta de Regressão\"], loc='upper left')\n",
        "plt.grid(True)\n",
        "\n",
        "# Display the plot\n",
        "plt.show()"
      ],
      "metadata": {
        "colab": {
          "base_uri": "https://localhost:8080/",
          "height": 472
        },
        "id": "Zgu5pSsdcYIV",
        "outputId": "d73202c4-01cf-4ffe-a578-699ae96917b5"
      },
      "execution_count": null,
      "outputs": [
        {
          "output_type": "display_data",
          "data": {
            "text/plain": [
              "<Figure size 640x480 with 1 Axes>"
            ],
            "image/png": "[encoded data removed]"
          },
          "metadata": {}
        }
      ]
    },
    {
      "cell_type": "markdown",
      "source": [
        "___________________________________________________________________________________"
      ],
      "metadata": {
        "id": "HPdj4Y_T4EZz"
      }
    },
    {
      "cell_type": "markdown",
      "source": [
        "Playlists x Streams"
      ],
      "metadata": {
        "id": "VP9_qGc136_5"
      }
    },
    {
      "cell_type": "code",
      "source": [
        "import pandas as pd\n",
        "import statsmodels.formula.api as smf\n",
        "import numpy as np\n",
        "import matplotlib.pyplot as plt\n",
        "\n",
        "# Carregar o conjunto de dados\n",
        "dados = pd.read_csv(\"/content/spotify2023.csv\")\n",
        "\n",
        "# Define the model with the appropriate model type and formula\n",
        "modelo = smf.ols(formula=\"total_participation_in_playlist ~ streams\", data=dados).fit()\n",
        "\n",
        "# Calculate the predicted values based on the model\n",
        "predicted_values = modelo.predict(dados[\"streams\"])\n",
        "\n",
        "# Prepare data for the plot\n",
        "x_values = dados[\"total_participation_in_playlist\"]\n",
        "y_values = dados[\"streams\"]\n",
        "\n",
        "# Plot the data points\n",
        "plt.plot(x_values, y_values, marker='o', linestyle='')\n",
        "\n",
        "# Plot the trendline\n",
        "plt.plot(x_values, predicted_values, color='red')\n",
        "\n",
        "# Customize the plot\n",
        "plt.xlabel(\"Playlists\")\n",
        "plt.ylabel(\"Streams\")\n",
        "plt.title(\"Relação entre Streams e Playlists\")\n",
        "plt.legend([\"Pontos de Dados\", \"Reta de Regressão\"], loc='upper left')\n",
        "plt.grid(True)\n",
        "\n",
        "# Display the plot\n",
        "plt.show()"
      ],
      "metadata": {
        "colab": {
          "base_uri": "https://localhost:8080/",
          "height": 472
        },
        "id": "mDek3uHC4XwS",
        "outputId": "d8fbfeba-78b6-4eaf-fd50-f20cfa2dcf0a"
      },
      "execution_count": null,
      "outputs": [
        {
          "output_type": "display_data",
          "data": {
            "text/plain": [
              "<Figure size 640x480 with 1 Axes>"
            ],
            "image/png": "[encoded data removed]"
          },
          "metadata": {}
        }
      ]
    }
  ]
}